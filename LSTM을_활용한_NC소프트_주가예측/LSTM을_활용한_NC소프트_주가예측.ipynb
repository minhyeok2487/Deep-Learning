{
  "nbformat": 4,
  "nbformat_minor": 0,
  "metadata": {
    "colab": {
      "name": "LSTM을 활용한 NC소프트 주가예측.ipynb",
      "private_outputs": true,
      "provenance": [],
      "authorship_tag": "ABX9TyOfpKRl6jixHcVyjkm1a4jG",
      "include_colab_link": true
    },
    "kernelspec": {
      "name": "python3",
      "display_name": "Python 3"
    },
    "language_info": {
      "name": "python"
    }
  },
  "cells": [
    {
      "cell_type": "markdown",
      "metadata": {
        "id": "view-in-github",
        "colab_type": "text"
      },
      "source": [
        "<a href=\"https://colab.research.google.com/github/minhyeok2487/Deep_Learning/blob/main/LSTM%EC%9D%84_%ED%99%9C%EC%9A%A9%ED%95%9C_NC%EC%86%8C%ED%94%84%ED%8A%B8_%EC%A3%BC%EA%B0%80%EC%98%88%EC%B8%A1/LSTM%EC%9D%84_%ED%99%9C%EC%9A%A9%ED%95%9C_NC%EC%86%8C%ED%94%84%ED%8A%B8_%EC%A3%BC%EA%B0%80%EC%98%88%EC%B8%A1.ipynb\" target=\"_parent\"><img src=\"https://colab.research.google.com/assets/colab-badge.svg\" alt=\"Open In Colab\"/></a>"
      ]
    },
    {
      "cell_type": "markdown",
      "metadata": {
        "id": "5l6ZupIKPJVq"
      },
      "source": [
        "# LSTM을 활용한 NC소프트 주가예측"
      ]
    },
    {
      "cell_type": "markdown",
      "metadata": {
        "id": "8djlEHZUPLwp"
      },
      "source": [
        "## 1. 필요한 모듈 Import"
      ]
    },
    {
      "cell_type": "code",
      "metadata": {
        "id": "7e8ulb0SPHS1"
      },
      "source": [
        "import pandas as pd\n",
        "import numpy as np\n",
        "import matplotlib.pyplot as plt\n",
        "import seaborn as sns\n",
        "import warnings\n",
        "import os\n",
        "\n",
        "%matplotlib inline\n",
        "warnings.filterwarnings('ignore')"
      ],
      "execution_count": null,
      "outputs": []
    },
    {
      "cell_type": "markdown",
      "metadata": {
        "id": "z42l1GwPPXBK"
      },
      "source": [
        "**주가 데이터 관리 패키지 FinanceDataReader**\n",
        "- [GitHub Repo](https://github.com/FinanceData/FinanceDataReader)"
      ]
    },
    {
      "cell_type": "code",
      "metadata": {
        "id": "3861YwhnPQwI"
      },
      "source": [
        "!pip install finance-datareader"
      ],
      "execution_count": null,
      "outputs": []
    },
    {
      "cell_type": "code",
      "metadata": {
        "id": "Ip6CTLxHPS9y"
      },
      "source": [
        "import FinanceDataReader as fdr"
      ],
      "execution_count": null,
      "outputs": []
    },
    {
      "cell_type": "markdown",
      "metadata": {
        "id": "f9aTB37EPgq-"
      },
      "source": [
        "## 2. 데이터 Load"
      ]
    },
    {
      "cell_type": "code",
      "metadata": {
        "id": "kXNpoheVPUvf"
      },
      "source": [
        "# NC소프트 주식코드: 036570\n",
        "STOCK_CODE = '036570'"
      ],
      "execution_count": null,
      "outputs": []
    },
    {
      "cell_type": "code",
      "metadata": {
        "id": "B2BqT3jbPlIz"
      },
      "source": [
        "stock = fdr.DataReader(STOCK_CODE)"
      ],
      "execution_count": null,
      "outputs": []
    },
    {
      "cell_type": "code",
      "metadata": {
        "id": "TZ0Tn_fgPmOH"
      },
      "source": [
        "stock"
      ],
      "execution_count": null,
      "outputs": []
    },
    {
      "cell_type": "markdown",
      "metadata": {
        "id": "lh48SYN8PrT3"
      },
      "source": [
        "## 3. 데이터 EDA"
      ]
    },
    {
      "cell_type": "markdown",
      "metadata": {
        "id": "fmO7WxE1Pu2r"
      },
      "source": [
        "### 1) 연도, 월, 일 나누기"
      ]
    },
    {
      "cell_type": "code",
      "metadata": {
        "id": "ZsOnuroEPo0Y"
      },
      "source": [
        "stock['Year'] = stock.index.year\n",
        "stock['Month'] = stock.index.month\n",
        "stock['Day'] = stock.index.day"
      ],
      "execution_count": null,
      "outputs": []
    },
    {
      "cell_type": "code",
      "metadata": {
        "id": "HoQ_SGUrPxJA"
      },
      "source": [
        "stock"
      ],
      "execution_count": null,
      "outputs": []
    },
    {
      "cell_type": "code",
      "metadata": {
        "id": "gQtuCnUaPx4p"
      },
      "source": [
        "#연도와 월을 같이 묶어서 보고 싶다.\n",
        "stock.groupby(['Year','Month']).mean()"
      ],
      "execution_count": null,
      "outputs": []
    },
    {
      "cell_type": "markdown",
      "metadata": {
        "id": "ilC2M_IpP9fe"
      },
      "source": [
        "### 2) 종가 데이터 그래프"
      ]
    },
    {
      "cell_type": "code",
      "metadata": {
        "id": "q_XmAGLLP2hH"
      },
      "source": [
        "plt.figure(figsize=(16, 9))\n",
        "plt.plot(stock['Close'])\n",
        "plt.xlabel('Date')\n",
        "plt.ylabel('Price')\n",
        "plt.show()"
      ],
      "execution_count": null,
      "outputs": []
    },
    {
      "cell_type": "code",
      "metadata": {
        "id": "ubNShnwcQBoH"
      },
      "source": [
        "# 2008~2012, 2012~2016, 2016~2020, 2020~2021\n",
        "time_steps = [['2012', '2014'],\n",
        "              ['2014', '2016'],\n",
        "              ['2016', '2018'],\n",
        "              ['2018', '2021']]\n",
        "\n",
        "fig, axes = plt.subplots(2,2)\n",
        "fig.set_size_inches(20,12)\n",
        "\n",
        "\n",
        "for i in range(4):\n",
        "    ax = axes[i//2, i%2]\n",
        "    df = stock.loc[(stock.index >= time_steps[i][0]) & (stock.index < time_steps[i][1])]\n",
        "    sns.lineplot(y=df['Close'], x=df.index, ax=ax)\n",
        "    ax.set_title(f'{time_steps[i][0]}~{time_steps[i][1]}')\n",
        "    ax.set_xlabel('time')\n",
        "    ax.set_ylabel('price')\n",
        "plt.tight_layout()\n",
        "plt.show()"
      ],
      "execution_count": null,
      "outputs": []
    },
    {
      "cell_type": "markdown",
      "metadata": {
        "id": "ty7btNUyQTEd"
      },
      "source": [
        "### 3) 정규화. MinMaxScaler 전처리"
      ]
    },
    {
      "cell_type": "code",
      "metadata": {
        "id": "-GEe_dQ4QHgE"
      },
      "source": [
        "from sklearn.preprocessing import MinMaxScaler\n",
        "\n",
        "scaler = MinMaxScaler()\n",
        "scale_cols = ['Open', 'High', 'Low', 'Close', 'Volume']\n",
        "scaled = scaler.fit_transform(stock[scale_cols])"
      ],
      "execution_count": null,
      "outputs": []
    },
    {
      "cell_type": "code",
      "metadata": {
        "id": "s8nJV05FQY-_"
      },
      "source": [
        "scaled.min(), scaled.max()"
      ],
      "execution_count": null,
      "outputs": []
    },
    {
      "cell_type": "markdown",
      "metadata": {
        "id": "PZkkCwHaQeJ1"
      },
      "source": [
        "### 3) 데이터 프레임 생성"
      ]
    },
    {
      "cell_type": "code",
      "metadata": {
        "id": "9EJcFuGZQcWI"
      },
      "source": [
        "df = pd.DataFrame(scaled, columns=scale_cols)\n",
        "df"
      ],
      "execution_count": null,
      "outputs": []
    },
    {
      "cell_type": "markdown",
      "metadata": {
        "id": "-Cj4wDEjQkyQ"
      },
      "source": [
        "## 4. 모델 생성"
      ]
    },
    {
      "cell_type": "markdown",
      "metadata": {
        "id": "4duPrcJFQrYG"
      },
      "source": [
        "### 1) Train 데이터, Test 데이터 분할"
      ]
    },
    {
      "cell_type": "code",
      "metadata": {
        "id": "LUIjem7IQhwu"
      },
      "source": [
        "from sklearn.model_selection import train_test_split\n",
        "x_train, x_test, y_train, y_test = train_test_split(df.drop('Close', 1), \n",
        "                                                    df['Close'], \n",
        "                                                    test_size=0.2, \n",
        "                                                    random_state=0, \n",
        "                                                    shuffle=False)"
      ],
      "execution_count": null,
      "outputs": []
    },
    {
      "cell_type": "code",
      "metadata": {
        "id": "TY4otZDOQy-H"
      },
      "source": [
        "x_train.shape, y_train.shape"
      ],
      "execution_count": null,
      "outputs": []
    },
    {
      "cell_type": "code",
      "metadata": {
        "id": "BDp5EZbRQ3rE"
      },
      "source": [
        "x_test.shape, y_test.shape"
      ],
      "execution_count": null,
      "outputs": []
    },
    {
      "cell_type": "code",
      "metadata": {
        "id": "33ymvGdfQ497"
      },
      "source": [
        "x_train"
      ],
      "execution_count": null,
      "outputs": []
    },
    {
      "cell_type": "markdown",
      "metadata": {
        "id": "52sNihCoQ-SQ"
      },
      "source": [
        "### 2) Windowed_dataset 함수 생성"
      ]
    },
    {
      "cell_type": "code",
      "metadata": {
        "id": "l8D6oW1GQ6gr"
      },
      "source": [
        "import tensorflow as tf\n",
        "def windowed_dataset(series, window_size, batch_size, shuffle):\n",
        "    series = tf.expand_dims(series, axis=-1)\n",
        "    ds = tf.data.Dataset.from_tensor_slices(series)\n",
        "    ds = ds.window(window_size+1, shift=1, stride=1, drop_remainder=True)\n",
        "    ds = ds.flat_map(lambda w: w.batch(window_size + 1))\n",
        "    if shuffle:\n",
        "        ds = ds.shuffle(1000)\n",
        "    ds = ds.map(lambda w: (w[:-1], w[-1]))\n",
        "    return ds.batch(batch_size).prefetch(1)"
      ],
      "execution_count": null,
      "outputs": []
    },
    {
      "cell_type": "markdown",
      "metadata": {
        "id": "nB81uLMiRHLO"
      },
      "source": [
        "### 3) 하이퍼 파라미터 정의"
      ]
    },
    {
      "cell_type": "code",
      "metadata": {
        "id": "v3O9XSUTREtr"
      },
      "source": [
        "WINDOW_SIZE=20\n",
        "BATCH_SIZE=32"
      ],
      "execution_count": null,
      "outputs": []
    },
    {
      "cell_type": "code",
      "metadata": {
        "id": "6twjwGk8RJrO"
      },
      "source": [
        "train_data = windowed_dataset(y_train, WINDOW_SIZE, BATCH_SIZE, True)\n",
        "test_data = windowed_dataset(y_test, WINDOW_SIZE, BATCH_SIZE, False)"
      ],
      "execution_count": null,
      "outputs": []
    },
    {
      "cell_type": "code",
      "metadata": {
        "id": "dkyM__oLRLbQ"
      },
      "source": [
        "for data in train_data.take(1):\n",
        "    print(f'데이터셋(X) 구성(batch_size, window_size, feature갯수): {data[0].shape}')\n",
        "    print(f'데이터셋(Y) 구성(batch_size, window_size, feature갯수): {data[1].shape}')"
      ],
      "execution_count": null,
      "outputs": []
    },
    {
      "cell_type": "markdown",
      "metadata": {
        "id": "7IkFV6yaRQdL"
      },
      "source": [
        "### 4) 모델 구현"
      ]
    },
    {
      "cell_type": "code",
      "metadata": {
        "id": "GESMuhEtROqT"
      },
      "source": [
        "from tensorflow.keras.models import Sequential\n",
        "from tensorflow.keras.layers import Dense, LSTM, Conv1D, Lambda\n",
        "from tensorflow.keras.losses import Huber\n",
        "from tensorflow.keras.optimizers import Adam\n",
        "from tensorflow.keras.callbacks import EarlyStopping, ModelCheckpoint\n",
        "\n",
        "\n",
        "model = Sequential([\n",
        "    Conv1D(filters=32, kernel_size=5, padding='causal', activation = 'relu', input_shape=[WINDOW_SIZE, 1]),\n",
        "    LSTM(16),\n",
        "    Dense(16, activation='relu'),\n",
        "    Dense(1),\n",
        "    Lambda(lambda x: x*20),#스케일 업\n",
        "])"
      ],
      "execution_count": null,
      "outputs": []
    },
    {
      "cell_type": "code",
      "metadata": {
        "id": "b9UX1wyMRSws"
      },
      "source": [
        "loss = Huber()\n",
        "adam = Adam(lr=0.0005)\n",
        "model.compile(optimizer=adam, loss=loss, metrics=['mae'])"
      ],
      "execution_count": null,
      "outputs": []
    },
    {
      "cell_type": "code",
      "metadata": {
        "id": "dvRtinZhRVN0"
      },
      "source": [
        "earlystopping = EarlyStopping(monitor='val_loss', patience=10)\n",
        "filename = 'tmp_checkpoint.ckpt'\n",
        "checkpoint = ModelCheckpoint(filepath=filename,\n",
        "                             save_best_only = True,\n",
        "                             save_weights_only = True,\n",
        "                             monitor='val_loss',\n",
        "                             verbose=1)"
      ],
      "execution_count": null,
      "outputs": []
    },
    {
      "cell_type": "code",
      "metadata": {
        "id": "Y4sylgoyRX40"
      },
      "source": [
        "model.fit(train_data, validation_data=(test_data),\n",
        "          epochs=50,\n",
        "          callbacks=[earlystopping, checkpoint])"
      ],
      "execution_count": null,
      "outputs": []
    },
    {
      "cell_type": "markdown",
      "metadata": {
        "id": "7gXggnQERbZt"
      },
      "source": [
        "### 5) 모델 시각화"
      ]
    },
    {
      "cell_type": "code",
      "metadata": {
        "id": "Jy5_Jx78RZsE"
      },
      "source": [
        "model.load_weights(filename)"
      ],
      "execution_count": null,
      "outputs": []
    },
    {
      "cell_type": "code",
      "metadata": {
        "id": "SJiibHd5Rewy"
      },
      "source": [
        "pred = model.predict(test_data)"
      ],
      "execution_count": null,
      "outputs": []
    },
    {
      "cell_type": "code",
      "metadata": {
        "id": "UmQ0sllbRgLb"
      },
      "source": [
        "plt.figure(figsize=(12, 9))\n",
        "plt.plot(np.asarray(y_test)[20:], label='actual')\n",
        "plt.plot(pred, label='prediction')\n",
        "plt.legend()\n",
        "plt.show()"
      ],
      "execution_count": null,
      "outputs": []
    },
    {
      "cell_type": "code",
      "metadata": {
        "id": "-o9_EWoiRiGL"
      },
      "source": [
        ""
      ],
      "execution_count": null,
      "outputs": []
    }
  ]
}