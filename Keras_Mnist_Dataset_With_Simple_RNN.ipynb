{
  "nbformat": 4,
  "nbformat_minor": 0,
  "metadata": {
    "colab": {
      "name": "Keras Mnist Dataset With Simple RNN.ipynb",
      "private_outputs": true,
      "provenance": [],
      "toc_visible": true,
      "authorship_tag": "ABX9TyOE/zyhd7MvbaJ7pe9OoVyP",
      "include_colab_link": true
    },
    "kernelspec": {
      "name": "python3",
      "display_name": "Python 3"
    },
    "language_info": {
      "name": "python"
    },
    "accelerator": "GPU"
  },
  "cells": [
    {
      "cell_type": "markdown",
      "metadata": {
        "id": "view-in-github",
        "colab_type": "text"
      },
      "source": [
        "<a href=\"https://colab.research.google.com/github/minhyeok2487/Deep_Learning/blob/main/Keras_Mnist_Dataset_With_Simple_RNN.ipynb\" target=\"_parent\"><img src=\"https://colab.research.google.com/assets/colab-badge.svg\" alt=\"Open In Colab\"/></a>"
      ]
    },
    {
      "cell_type": "markdown",
      "metadata": {
        "id": "xnv3gMAmVlxd"
      },
      "source": [
        "# Keras Mnist Dataset With Simple RNN"
      ]
    },
    {
      "cell_type": "markdown",
      "metadata": {
        "id": "TIkXc-LRjXe4"
      },
      "source": [
        "**Test accuracy: 47.2%**"
      ]
    },
    {
      "cell_type": "markdown",
      "metadata": {
        "id": "9o7mlHE5Vp4u"
      },
      "source": [
        "## Step 1. Library\n",
        "\n",
        "\n",
        "\n",
        "\n"
      ]
    },
    {
      "cell_type": "code",
      "metadata": {
        "id": "Vy2CtQb08Nn8"
      },
      "source": [
        "import tensorflow as tf\n",
        "from tensorflow import keras\n",
        "from keras.layers import Dense\n",
        "from keras.models import Sequential\n",
        "\n",
        "import pandas as pd\n",
        "import numpy as np\n",
        "import matplotlib.pyplot as plt\n",
        "import seaborn as sns\n",
        "import warnings \n",
        "from IPython.display import Image\n",
        "\n",
        "warnings.filterwarnings('ignore')\n",
        "%matplotlib inline\n",
        "\n",
        "SEED = 34"
      ],
      "execution_count": null,
      "outputs": []
    },
    {
      "cell_type": "markdown",
      "metadata": {
        "id": "gdxSa0BiC6BQ"
      },
      "source": [
        "## Step 2. Load Data"
      ]
    },
    {
      "cell_type": "code",
      "metadata": {
        "id": "vYUMMQhMWmpu"
      },
      "source": [
        "from keras.datasets import mnist\n",
        "\n",
        "(x_train, y_train),(x_test, y_test) = mnist.load_data()"
      ],
      "execution_count": null,
      "outputs": []
    },
    {
      "cell_type": "code",
      "metadata": {
        "id": "S1uCjaKhXbvj"
      },
      "source": [
        "# Check train data shape\n",
        "print(x_train.shape)\n",
        "print(y_train.shape)\n",
        "\n",
        "# Count the number of unique train labels\n",
        "unique, counts = np.unique(y_train, return_counts=True)\n",
        "print(\"Train labels: \", dict(zip(unique, counts)))"
      ],
      "execution_count": null,
      "outputs": []
    },
    {
      "cell_type": "code",
      "metadata": {
        "id": "sltxs05dYNPm"
      },
      "source": [
        "# Check test data shape\n",
        "print(x_test.shape)\n",
        "print(y_test.shape)\n",
        "\n",
        "# Count the number of unique test labels\n",
        "unique, counts = np.unique(y_test, return_counts=True)\n",
        "print(\"Test labels: \", dict(zip(unique, counts)))"
      ],
      "execution_count": null,
      "outputs": []
    },
    {
      "cell_type": "code",
      "metadata": {
        "id": "jvv2nYtW89Bp"
      },
      "source": [
        "# Show data example\n",
        "plt.figure()\n",
        "plt.imshow(x_train[3])\n",
        "plt.colorbar()\n",
        "plt.grid(True)\n",
        "plt.show()\n",
        "print(\"\\nThe number is\", y_train[3])"
      ],
      "execution_count": null,
      "outputs": []
    },
    {
      "cell_type": "code",
      "metadata": {
        "id": "fHsZPdihDa4A"
      },
      "source": [
        "# Outputs all nonzero values for one image \n",
        "list(filter(lambda x: x != 0, x_train[3].reshape(-1)))[:10]"
      ],
      "execution_count": null,
      "outputs": []
    },
    {
      "cell_type": "code",
      "metadata": {
        "id": "cNhA6j3VEhGL"
      },
      "source": [
        "# Check dtype\n",
        "print(x_train.dtype)\n",
        "print(y_train.dtype)"
      ],
      "execution_count": null,
      "outputs": []
    },
    {
      "cell_type": "markdown",
      "metadata": {
        "id": "Yu48Y_QRE615"
      },
      "source": [
        "## Step 3. Data Preprocessing"
      ]
    },
    {
      "cell_type": "markdown",
      "metadata": {
        "id": "sP8SRbXDF21e"
      },
      "source": [
        "### 3.1 train/test data check range"
      ]
    },
    {
      "cell_type": "code",
      "metadata": {
        "id": "_FUSVCSeE3i_"
      },
      "source": [
        "print(list(filter(lambda x: x != 0, x_train[3].reshape(-1)))[:10])\n",
        "print(list(filter(lambda x: x != 0, y_train.reshape(-1)))[:10])\n",
        "\n",
        "print(list(filter(lambda x: x != 0, x_test[3].reshape(-1)))[:10])\n",
        "print(list(filter(lambda x: x != 0, y_test.reshape(-1)))[:10])"
      ],
      "execution_count": null,
      "outputs": []
    },
    {
      "cell_type": "markdown",
      "metadata": {
        "id": "PCrLNE2NHGNs"
      },
      "source": [
        "### 3.2 Min/Max values of train/test data "
      ]
    },
    {
      "cell_type": "code",
      "metadata": {
        "id": "9CJar-sJGG5W"
      },
      "source": [
        "print(max(x_train.reshape(-1)), min(x_train.reshape(-1)))\n",
        "print(max(x_test.reshape(-1)), min(x_test.reshape(-1)))"
      ],
      "execution_count": null,
      "outputs": []
    },
    {
      "cell_type": "markdown",
      "metadata": {
        "id": "3FQVO6HkNBE5"
      },
      "source": [
        "### 3.3 Data Normalize"
      ]
    },
    {
      "cell_type": "code",
      "metadata": {
        "id": "s-cHW3urHiiG"
      },
      "source": [
        "# Convert uint8 to float64\n",
        "x_train = x_train.astype(np.float64)\n",
        "x_test = x_test.astype(np.float64)\n",
        "\n",
        "# 0~1 Normalize\n",
        "x_train = x_train / 255\n",
        "x_test = x_test / 255\n",
        "\n",
        "print(list(filter(lambda x: x != 0, x_train[3].reshape(-1)))[:10])\n",
        "print(list(filter(lambda x: x != 0, y_train.reshape(-1)))[:10])\n",
        "\n",
        "print(list(filter(lambda x: x != 0, x_test[3].reshape(-1)))[:10])\n",
        "print(list(filter(lambda x: x != 0, y_test.reshape(-1)))[:10])"
      ],
      "execution_count": null,
      "outputs": []
    },
    {
      "cell_type": "markdown",
      "metadata": {
        "id": "lDYJ3NKvYAvW"
      },
      "source": [
        "## Step 4. Data Visualization"
      ]
    },
    {
      "cell_type": "code",
      "metadata": {
        "id": "YeJl7PREb4Pl"
      },
      "source": [
        "indexes = np.random.randint(0, x_train.shape[0], size=25)\n",
        "images = x_train[indexes]\n",
        "labels = y_train[indexes]\n",
        "\n",
        "\n",
        "# plot the 25 mnist digits\n",
        "plt.figure(figsize=(5,5))\n",
        "for i in range(len(indexes)):\n",
        "    plt.subplot(5, 5, i + 1)\n",
        "    image = images[i]\n",
        "    plt.imshow(image, cmap='gray')\n",
        "    plt.axis('off')\n",
        "   \n",
        "plt.show()\n",
        "plt.savefig(\"mnist-samples.png\")\n",
        "plt.close('all')"
      ],
      "execution_count": null,
      "outputs": []
    },
    {
      "cell_type": "markdown",
      "metadata": {
        "id": "d-rRaGQrr-vS"
      },
      "source": [
        "## Step 5. Data augmentation - Noise"
      ]
    },
    {
      "cell_type": "code",
      "metadata": {
        "id": "TGYCCEUxtzi1"
      },
      "source": [
        "noisy_image = x_train[3] + np.random.normal(loc = 0.5, scale=0.1, size=(28,28))\n",
        "plt.imshow(noisy_image, cmap='gray')\n",
        "plt.colorbar()\n",
        "plt.show()"
      ],
      "execution_count": null,
      "outputs": []
    },
    {
      "cell_type": "code",
      "metadata": {
        "id": "o6jSSyn7vUw3"
      },
      "source": [
        "x_train_noisy = x_train + np.random.normal(loc = 0.5, scale=0.1, size=x_train.shape)\n",
        "x_test_noisy = x_test + np.random.normal(loc = 0.5, scale=0.1, size=x_test.shape)\n",
        "\n",
        "x_train_noisy[x_train_noisy > 1.0] = 1.0 \n",
        "x_test_noisy[x_test_noisy > 1.0] = 1.0"
      ],
      "execution_count": null,
      "outputs": []
    },
    {
      "cell_type": "code",
      "metadata": {
        "id": "JuFrG6XGxs3M"
      },
      "source": [
        "plt.imshow(x_train_noisy[:5].transpose( (1, 0, 2) ).reshape(28, -1), cmap='gray')\n",
        "plt.colorbar()\n",
        "plt.show()\n",
        "print(y_train[:5])"
      ],
      "execution_count": null,
      "outputs": []
    },
    {
      "cell_type": "markdown",
      "metadata": {
        "id": "YmjUA8Sb1Rew"
      },
      "source": [
        "## Step 6. Designing Model"
      ]
    },
    {
      "cell_type": "markdown",
      "metadata": {
        "id": "gl0VfxrxdBxl"
      },
      "source": [
        "### 6.1 One-Hot Encoding"
      ]
    },
    {
      "cell_type": "code",
      "metadata": {
        "id": "Ur_bmqh7dHAH"
      },
      "source": [
        "from tensorflow.keras.utils import to_categorical\n",
        "y_train = to_categorical(y_train, 10)\n",
        "y_test = to_categorical(y_test, 10)\n",
        "print(y_train.shape, y_test.shape)"
      ],
      "execution_count": null,
      "outputs": []
    },
    {
      "cell_type": "markdown",
      "metadata": {
        "id": "0lnFb9MtdSc6"
      },
      "source": [
        "### 6.2 RNN Model"
      ]
    },
    {
      "cell_type": "code",
      "metadata": {
        "id": "0uKD-x_Pzf9F"
      },
      "source": [
        "from keras.layers import SimpleRNN\n",
        "from keras.layers import Dense, Input\n",
        "from keras.models import Model\n",
        "\n",
        "inputs = Input(shape=(28,28))\n",
        "x1 = SimpleRNN(64, activation=\"tanh\")(inputs)\n",
        "x2 = Dense(10, activation=\"softmax\")(x1)\n",
        "model = Model(inputs, x2)"
      ],
      "execution_count": null,
      "outputs": []
    },
    {
      "cell_type": "code",
      "metadata": {
        "id": "PWIYGn8j2K_x"
      },
      "source": [
        "model.summary()"
      ],
      "execution_count": null,
      "outputs": []
    },
    {
      "cell_type": "code",
      "metadata": {
        "id": "YUoyvHol3Rut"
      },
      "source": [
        "model.compile(loss=\"categorical_crossentropy\", optimizer=\"adam\", metrics= [\"accuracy\"])"
      ],
      "execution_count": null,
      "outputs": []
    },
    {
      "cell_type": "code",
      "metadata": {
        "id": "k0BtCc0B4f0X"
      },
      "source": [
        "hist = model.fit(x_train_noisy, y_train,\n",
        "          validation_data=(x_test_noisy, y_test), epochs=20, verbose=2)"
      ],
      "execution_count": null,
      "outputs": []
    },
    {
      "cell_type": "code",
      "metadata": {
        "id": "46IumRyU41yK"
      },
      "source": [
        "plt.plot(hist.history['accuracy'], label='accuracy')\n",
        "plt.plot(hist.history['loss'], label='loss')\n",
        "plt.plot(hist.history['val_accuracy'], label='val_accuracy')\n",
        "plt.plot(hist.history['val_loss'], label='val_loss')\n",
        "plt.legend(loc=\"upper left\")\n",
        "plt.show"
      ],
      "execution_count": null,
      "outputs": []
    },
    {
      "cell_type": "markdown",
      "metadata": {
        "id": "HQAYG9e3M3zo"
      },
      "source": [
        "## Step 7. Save Model"
      ]
    },
    {
      "cell_type": "code",
      "metadata": {
        "id": "hxnlk2PS5cLE"
      },
      "source": [
        "model.save(\"./MNIST_RNN_01.h5\")"
      ],
      "execution_count": null,
      "outputs": []
    },
    {
      "cell_type": "code",
      "metadata": {
        "id": "1H-g3bJjNN4z"
      },
      "source": [
        "new_model = tf.keras.models.load_model(\"./MNIST_RNN_01.h5\")"
      ],
      "execution_count": null,
      "outputs": []
    },
    {
      "cell_type": "code",
      "metadata": {
        "id": "SpMYMUAXNnaO"
      },
      "source": [
        "res = new_model.predict(x_test_noisy[4:5])\n",
        "res.shape\n",
        "plt.bar(range(10), res[0], color='red')\n",
        "plt.bar(np.array(range(10))+ 0.35, y_test[3])\n",
        "plt.show()"
      ],
      "execution_count": null,
      "outputs": []
    },
    {
      "cell_type": "code",
      "metadata": {
        "id": "VOq4wxeNN6bb"
      },
      "source": [
        "loss, acc = model.evaluate(x_test, y_test, verbose=2)\n",
        "print(\"\\nTest accuracy: %.1f%%\" % (100.0 * acc))"
      ],
      "execution_count": null,
      "outputs": []
    },
    {
      "cell_type": "code",
      "metadata": {
        "id": "CCvpcv3VOaG6"
      },
      "source": [
        "from google.colab import files\n",
        "\n",
        "files.download(\"./MNIST_RNN_01.h5\")"
      ],
      "execution_count": null,
      "outputs": []
    },
    {
      "cell_type": "code",
      "metadata": {
        "id": "hu2Xbqq7OoWF"
      },
      "source": [
        ""
      ],
      "execution_count": null,
      "outputs": []
    }
  ]
}